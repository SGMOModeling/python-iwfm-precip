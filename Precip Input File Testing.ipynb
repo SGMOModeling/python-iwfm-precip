{
 "cells": [
  {
   "cell_type": "code",
   "execution_count": 1,
   "metadata": {},
   "outputs": [],
   "source": [
    "import arcpy, os, re, datetime, sys, glob \n",
    "import multiprocessing as mp"
   ]
  },
  {
   "cell_type": "code",
   "execution_count": 2,
   "metadata": {},
   "outputs": [],
   "source": [
    "inFeatureClass = r'C:\\Temp\\C2VSimFG-BETA_GIS\\Shapefiles\\C2VSimFG_Elements.shp'\n",
    "outUnits = 'inches'\n",
    "NSPRN = 1\n",
    "NFQRN = 0"
   ]
  },
  {
   "cell_type": "code",
   "execution_count": 3,
   "metadata": {},
   "outputs": [],
   "source": [
    "def FACTRN(outUnits):\n",
    "    if outUnits == 'feet':\n",
    "        return 1.0\n",
    "    if outUnits == 'inches':\n",
    "        return 1.0/12.0\n",
    "    if outUnits == 'meters':\n",
    "        return 12.0/39.37\n",
    "    if outUnits == 'millimeters':\n",
    "        return 0.001 * 39.37/12.0"
   ]
  },
  {
   "cell_type": "code",
   "execution_count": 4,
   "metadata": {},
   "outputs": [],
   "source": [
    "        def PrecipSpecs(NRAIN, FACTRN, NSPRN, NFQRN):\n",
    "            string = \"\"\"\n",
    "C*******************************************************************************\n",
    "C                         Rainfall Data Specifications\n",
    "C\n",
    "C   NRAIN ;  Number of rainfall stations (or pathnames if DSS files are used)\n",
    "C             used in the model \n",
    "C   FACTRN;  Conversion factor for rainfall rate \n",
    "C             It is used to convert only the spatial component of the unit; \n",
    "C             DO NOT include the conversion factor for time component of the unit.\n",
    "C             * e.g. Unit of rainfall rate listed in this file = INCHES/MONTH\n",
    "C                    Consistent unit used in simulation        = FEET/DAY \n",
    "C                    Enter FACTRN (INCHES/MONTH -> FEET/MONTH) = 8.33333E-02 \n",
    "C                     (conversion of MONTH -> DAY is performed automatically) \n",
    "C   NSPRN ;  Number of time steps to update the precipitation data\n",
    "C             * Enter any number if time-tracking option is on\n",
    "C   NFQRN ;  Repetition frequency of the precipitation data \n",
    "C             * Enter 0 if full time series data is supplied\n",
    "C             * Enter any number if time-tracking option is on\n",
    "C   DSSFL ;  The name of the DSS file for data input (maximum 50 characters); \n",
    "C             * Leave blank if DSS file is not used for data input\n",
    "C \n",
    "C-------------------------------------------------------------------------------\n",
    "C         VALUE                                      DESCRIPTION\n",
    "C-------------------------------------------------------------------------------\n",
    "          {:<43}/ NRAIN \n",
    "          {:<43}/ FACTRN  (in/month -> ft/month)         \n",
    "          {:<43}/ NSPRN\n",
    "          {:<43}/ NFQRN\n",
    "                                                     / DSSFL\"\"\"\n",
    "            return string.format(NRAIN, FACTRN, NSPRN, NFQRN)"
   ]
  },
  {
   "cell_type": "code",
   "execution_count": 5,
   "metadata": {},
   "outputs": [],
   "source": [
    "featureCount = int(arcpy.GetCount_management(inFeatureClass)[0])"
   ]
  },
  {
   "cell_type": "code",
   "execution_count": 6,
   "metadata": {},
   "outputs": [],
   "source": [
    "def PrecipData(NRAIN):\n",
    "    string = \"\"\"\n",
    "C-------------------------------------------------------------------------------\n",
    "C                             Rainfall Data \n",
    "C                         (READ FROM THIS FILE)\n",
    "C\n",
    "C   List the rainfall rates for each of the rainfall station below, if it will \n",
    "C   not be read from a DSS file (i.e. DSSFL is left blank above).\n",
    "C\n",
    "C   ITRN ;   Time \n",
    "C   ARAIN;   Rainfall rate at the corresponding rainfall station; [L/T]\n",
    "C\n",
    "C-------------------------------------------------------------------------------     \n",
    "C   ITRN          ARAIN(1)  ARAIN(2)  ARAIN(3) ...\n",
    "C   TIME        {}\n",
    "C-------------------------------------------------------------------------------\n",
    "\"\"\"\n",
    "    return string.format('{:>10}'*NRAIN).format(*[i+1 for i in range(NRAIN)])"
   ]
  },
  {
   "cell_type": "code",
   "execution_count": 7,
   "metadata": {},
   "outputs": [],
   "source": [
    "def LastDayOfMonth(inDate):\n",
    "    ''' generates a date for the last day of a given month '''\n",
    "    nextMonth = inDate.replace(day=28) + datetime.timedelta(days=4)\n",
    "    return nextMonth - datetime.timedelta(days=nextMonth.day)"
   ]
  },
  {
   "cell_type": "code",
   "execution_count": 8,
   "metadata": {},
   "outputs": [],
   "source": [
    "inRaster = r'F:\\ppt\\1909\\prism_ppt_us_30s_190905_clip.bil'"
   ]
  },
  {
   "cell_type": "code",
   "execution_count": 9,
   "metadata": {},
   "outputs": [
    {
     "name": "stdout",
     "output_type": "stream",
     "text": [
      "05/31/1909_24:00\n"
     ]
    }
   ],
   "source": [
    "def ParseDateFromFileName(inFileName, fmt=\"%m/%d/%Y_24:00\"):\n",
    "    ''' use regex to parse dates in YYYYMM, YYYYM, YYYY_MM, or YYYY_M format and return the date as a string in the desired format '''\n",
    "\n",
    "    # find date between 1900 and 2099 within basename of provided file\n",
    "    expr = re.findall(r\"19\\d{2}0?[1-9](?!\\d+)|19\\d{2}1[0-2](?!\\d+)|20\\d{2}0?[1-9](?!\\d+)|20\\d{2}1[0-2](?!\\d+)|19\\d{2}_0?[1-9](?!\\d+)|19\\d{2}_1[0-2](?!\\d+)|20\\d{2}_0?[1-9](?!\\d+)|20\\d{2}_1[0-2](?!\\d+)\", os.path.basename(inFileName))[0]\n",
    "\n",
    "    # determine the format of the expression and parse accordingly\n",
    "    if \"_\" not in expr:\n",
    "        fileDate = datetime.datetime.strptime(expr, \"%Y%m\")\n",
    "    else:\n",
    "        fileDate = datetime.datetime.strptime(expr, \"%Y_%m\")\n",
    "    \n",
    "    modelDate = datetime.datetime.strftime(LastDayOfMonth(fileDate), fmt)\n",
    "\n",
    "    return modelDate\n",
    "\n",
    "try:\n",
    "    modelDate = ParseDateFromFileName(inFileName=inRaster, fmt='%m/%d/%Y_24:00')\n",
    "except IndexError:\n",
    "    exc = sys.exc_info()\n",
    "    print(\"{0}: date could not be read from filename: {1}\".format(exc[0].__name__,testRaster))\n",
    "    print(\"files should have dates of the following format:\\n\" + \\\n",
    "          \"    1. Years should be between 1900 and 2099\\n\" + \\\n",
    "          \"    2. Format:\\n\" + \\\n",
    "          \"        a. YYYYMM\\n\" + \\\n",
    "          \"        b. YYYYM\\n\" + \\\n",
    "          \"        c. YYYY_MM\\n\" + \\\n",
    "          \"        d. YYYY_M\\n\")\n",
    "    sys.exit(1)\n",
    "\n",
    "print(modelDate)"
   ]
  },
  {
   "cell_type": "code",
   "execution_count": 10,
   "metadata": {},
   "outputs": [],
   "source": [
    "def GetAllRastersFromFolders(inWorkspace):\n",
    "    ''' generates a list of all rasters in subfolders of the parent directory '''\n",
    "    listDir = os.listdir(inWorkspace)\n",
    "    listRasters = []\n",
    "    \n",
    "    # add rasters to list from parent directory\n",
    "    rasterList = glob.glob(os.path.join(inWorkspace, '*.bil'))\n",
    "    if len(rasterList) > 0:\n",
    "        listRasters = [os.path.join(inWorkspace, raster) for raster in rasterList]\n",
    "        \n",
    "    # only do if the parent directory has subdirectories within it\n",
    "    if len(listDir) > 0:\n",
    "        dirPaths = [os.path.join(inWorkspace, dir) for dir in listDir]\n",
    "        for dirPath in dirPaths:\n",
    "            rasterList = glob.glob(os.path.join(dirPath, '*.bil'))\n",
    "            if len(listRasters) > 0:\n",
    "                listRasters.extend([os.path.join(dirPath, raster) for raster in rasterList])\n",
    "            else:\n",
    "                listRasters = [os.path.join(dirPath, raster) for raster in rasterList]\n",
    "    \n",
    "    return sorted(listRasters)"
   ]
  },
  {
   "cell_type": "code",
   "execution_count": 11,
   "metadata": {},
   "outputs": [],
   "source": [
    "def GetAllRastersFromFolders2(inWorkspace):\n",
    "    ''' generates a list of all rasters in subfolders of the parent directory '''\n",
    "    listDir = os.listdir(inWorkspace)\n",
    "    listRasters = []\n",
    "    \n",
    "    # add rasters to list from parent directory\n",
    "    arcpy.env.workspace = inWorkspace\n",
    "    rasterList = arcpy.ListRasters('*', 'All')\n",
    "    if len(rasterList) > 0:\n",
    "        listRasters = [os.path.join(inWorkspace, raster) for raster in rasterList]\n",
    "        \n",
    "    # only do if the parent directory has subdirectories within it\n",
    "    if len(listDir) > 0:\n",
    "        dirPaths = [os.path.join(inWorkspace, dir) for dir in listDir]\n",
    "        for dirPath in dirPaths:\n",
    "            arcpy.env.workspace = dirPath\n",
    "            rasterList = arcpy.ListRasters('*', 'All')\n",
    "            if len(listRasters) > 0:\n",
    "                listRasters.extend([os.path.join(dirPath, raster) for raster in rasterList])\n",
    "            else:\n",
    "                listRasters = [os.path.join(dirPath, raster) for raster in rasterList]\n",
    "    \n",
    "    return sorted(listRasters)"
   ]
  },
  {
   "cell_type": "code",
   "execution_count": 12,
   "metadata": {},
   "outputs": [],
   "source": [
    "inWorkspace = r'C:\\Temp\\Test\\Clipped'"
   ]
  },
  {
   "cell_type": "code",
   "execution_count": 13,
   "metadata": {},
   "outputs": [
    {
     "name": "stdout",
     "output_type": "stream",
     "text": [
      "Wall time: 11 ms\n"
     ]
    }
   ],
   "source": [
    "%time rasterList = GetAllRastersFromFolders(inWorkspace)"
   ]
  },
  {
   "cell_type": "code",
   "execution_count": 14,
   "metadata": {},
   "outputs": [
    {
     "name": "stdout",
     "output_type": "stream",
     "text": [
      "Wall time: 1.59 s\n"
     ]
    }
   ],
   "source": [
    "%time rasterList2 = GetAllRastersFromFolders2(inWorkspace)"
   ]
  },
  {
   "cell_type": "code",
   "execution_count": 15,
   "metadata": {},
   "outputs": [],
   "source": [
    "valueRaster = r'C:\\Temp\\Test\\Clipped\\prism_ppt_us_30s_201509_clip.bil'\n",
    "#valueRaster = r'C:\\Temp\\C2VSimFG-BETA_GIS\\Shapefiles\\C2VSimFG_Elements_SmallWatersheds.shp'\n",
    "arcpy.CheckOutExtension(\"Spatial\")\n",
    "\n",
    "# what error would occur if the dataset provided is not a raster?\n",
    "\n",
    "def GetPropertiesFromRaster(inRaster):\n",
    "    ''' returns raster properties from raster object '''\n",
    "    # Instantiate a raster object for the raster to access its properties\n",
    "    rasterDataset = arcpy.sa.Raster(inRaster)\n",
    "          \n",
    "    # Get properties from raster object\n",
    "    inRasterName = rasterDataset.name\n",
    "    numRows = rasterDataset.height\n",
    "    numCols = rasterDataset.width\n",
    "    rastExtent = rasterDataset.extent\n",
    "    xMin = rastExtent.XMin\n",
    "    yMin = rastExtent.YMin\n",
    "    xMax = rastExtent.XMax\n",
    "    yMax = rastExtent.YMax\n",
    "    \n",
    "    del rasterDataset\n",
    "    \n",
    "    return inRasterName, numRows, numCols, xMin, yMin, xMax, yMax\n",
    "\n",
    "try:\n",
    "    inRasterName, numRows, numCols, xMin, yMin, xMax, yMax = GetPropertiesFromRaster(valueRaster)\n",
    "except RuntimeError:\n",
    "    ex = sys.exc_info()\n",
    "    try:\n",
    "        desc = arcpy.Describe(valueRaster)\n",
    "    except OSError:\n",
    "        ex = sys.exc_info()\n",
    "        print(\"{0}:The input to the function does not exist or could not be found.\".format(ex[0].__name__))\n",
    "    else:\n",
    "        if desc.dataType != \"RasterDataset\":\n",
    "            print(\"{0}: The input to the function is not a raster\".format(ex[0].__name__))\n",
    "        else:\n",
    "            print(\"{0}: The input to the function does not exist or is not supported.\".format(ex[0].__name__))\n"
   ]
  },
  {
   "cell_type": "code",
   "execution_count": 17,
   "metadata": {},
   "outputs": [],
   "source": [
    "def CreateFishnetFeature(inRaster, outWorkspace):\n",
    "    ''' creates a polyline fishnet feature class and returns it's name '''\n",
    "    \n",
    "    # Get properties from raster dataset for use in generating fishnet\n",
    "    inRasterName, numRows, numCols, xMin, yMin, xMax, yMax = GetPropertiesFromRaster(inRaster)\n",
    "    \n",
    "    # Use the input raster name to generate a default output name for the fishnet feature class\n",
    "    inRasterBaseName = os.path.splitext(inRasterName)[0]\n",
    "    if \"clip\" in inRasterBaseName:\n",
    "        outFishnetFeatureName = \"{0}.shp\".format(inRasterBaseName.replace(\"clip\", \"fishnet\"))\n",
    "    else:\n",
    "        outFishnetFeatureName = \"{0}_fishnet.shp\".format(inRasterBaseName)\n",
    "    \n",
    "    outFishnetFeature = os.path.join(outWorkspace, outFishnetFeatureName)\n",
    "    \n",
    "    # Set origin and rotation of fishnet using extent properties\n",
    "    # rotation is set by the difference in the x-values in the origin coordinate and the y-axis coordinate\n",
    "    originCoordinate = \"{0} {1}\".format(xMin, yMin)\n",
    "    yAxisCoordinate = \"{0} {1}\".format(xMin, yMax)\n",
    "    \n",
    "    # Create fishnet using clipped rasters\n",
    "    arcpy.CreateFishnet_management(outFishnetFeature, originCoordinate, yAxisCoordinate, 0, 0, numRows, numCols, \"#\", \"NO_LABELS\", inRaster, \"POLYLINE\")\n",
    "    \n",
    "    return outFishnetFeature"
   ]
  },
  {
   "cell_type": "code",
   "execution_count": 16,
   "metadata": {},
   "outputs": [
    {
     "name": "stdout",
     "output_type": "stream",
     "text": [
      "prism_ppt_us_30s_201509_clip\n",
      ".bil\n"
     ]
    }
   ],
   "source": [
    "inRasterName, inRasterExt = os.path.splitext(os.path.basename(valueRaster))\n",
    "print(inRasterName)\n",
    "print(inRasterExt)"
   ]
  },
  {
   "cell_type": "code",
   "execution_count": 17,
   "metadata": {},
   "outputs": [],
   "source": [
    "def ConvertRasterToPoints(inRaster, outWorkspace):\n",
    "    ''' converts a raster to points and returns the name of the point feature class '''\n",
    "    \n",
    "    # Use the input raster name to generate a default output name\n",
    "    inRasterName = os.path.splitext(os.path.basename(inRaster))[0]\n",
    "    outPointFeatureName = \"{0}.shp\".format(inRasterName)\n",
    "    outPointFeature = os.path.join(outWorkspace, outPointFeatureName)\n",
    "    \n",
    "    # Convert raster to point feature class\n",
    "    arcpy.RasterToPoint_conversion(inRaster, outPointFeature, \"Value\")\n",
    "    \n",
    "    return outPointFeature  "
   ]
  },
  {
   "cell_type": "code",
   "execution_count": 18,
   "metadata": {},
   "outputs": [],
   "source": [
    "def ClipRaster(inRaster, clipFeature, outWorkspace):\n",
    "    ''' clips a raster to the geometry of the boundary of the feature class provided and returns the name of the clipped raster '''\n",
    "    \n",
    "    # Use the input raster name to generate a default output name\n",
    "    inRasterName, inRasterExt = os.path.splitext(os.path.basename(inRaster))\n",
    "    outRasterName = \"{0}_clip{1}\".format(inRasterName, inRasterExt)\n",
    "    outClipRaster = os.path.join(outWorkspace, outRasterName)\n",
    "    \n",
    "    # Clip raster to geometry of the feature class specified by the user\n",
    "    arcpy.Clip_management(inRaster, \"#\", outClipRaster, clipFeature, \"#\", \"ClippingGeometry\")\n",
    "    \n",
    "    return outClipRaster"
   ]
  },
  {
   "cell_type": "code",
   "execution_count": 19,
   "metadata": {},
   "outputs": [
    {
     "name": "stdout",
     "output_type": "stream",
     "text": [
      "(('C:\\\\Temp\\\\Test\\\\Clipped\\\\prism_ppt_us_30s_201509_clip.bil', 'C:\\\\Temp\\\\Test2'), ('C:\\\\Temp\\\\Test\\\\Clipped\\\\prism_ppt_us_30s_201510_clip.bil', 'C:\\\\Temp\\\\Test2'), ('C:\\\\Temp\\\\Test\\\\Clipped\\\\prism_ppt_us_30s_201511_clip.bil', 'C:\\\\Temp\\\\Test2'), ('C:\\\\Temp\\\\Test\\\\Clipped\\\\prism_ppt_us_30s_201512_clip.bil', 'C:\\\\Temp\\\\Test2'))\n"
     ]
    }
   ],
   "source": [
    "outWorkspace = r'C:\\Temp\\Test2'\n",
    "outWorkspaceList = [outWorkspace for i in range(len(rasterList))]\n",
    "inputList = tuple(zip(rasterList, outWorkspaceList))\n",
    "print(inputList)"
   ]
  },
  {
   "cell_type": "code",
   "execution_count": 20,
   "metadata": {},
   "outputs": [],
   "source": [
    "def ConvertRasterToPoints2(inputValueList):\n",
    "    ''' converts a raster to points and returns the name of the point feature class '''\n",
    "    \n",
    "    # Use the input raster name to generate a default output name\n",
    "    inRaster, outWorkspace = inputValueList\n",
    "    inRasterName = os.path.splitext(os.path.basename(inRaster))[0]\n",
    "    outPointFeatureName = \"{0}.shp\".format(inRasterName)\n",
    "    outPointFeature = os.path.join(outWorkspace, outPointFeatureName)\n",
    "    \n",
    "    # Convert raster to point feature class\n",
    "    arcpy.RasterToPoint_conversion(inRaster, outPointFeature, \"Value\")\n",
    "    \n",
    "    return outPointFeature"
   ]
  },
  {
   "cell_type": "code",
   "execution_count": null,
   "metadata": {},
   "outputs": [],
   "source": [
    "%%time\n",
    "pool = mp.Pool(processes=4)\n",
    "pointFeatureList = pool.starmap(ConvertRasterToPoints, inputList)\n",
    "pool.close()"
   ]
  },
  {
   "cell_type": "code",
   "execution_count": 51,
   "metadata": {},
   "outputs": [
    {
     "name": "stdout",
     "output_type": "stream",
     "text": [
      "Wall time: 1min 8s\n"
     ]
    }
   ],
   "source": [
    "%%time\n",
    "outLocation = r'C:\\Temp\\Test3'\n",
    "for i, raster in enumerate(rasterList):\n",
    "    ConvertRasterToPoints(raster, outLocation)"
   ]
  },
  {
   "cell_type": "code",
   "execution_count": 21,
   "metadata": {},
   "outputs": [
    {
     "name": "stdout",
     "output_type": "stream",
     "text": [
      "Help on method starmap in module multiprocessing.pool:\n",
      "\n",
      "starmap(func, iterable, chunksize=None) method of multiprocessing.pool.Pool instance\n",
      "    Like `map()` method but the elements of the `iterable` are expected to\n",
      "    be iterables as well and will be unpacked as arguments. Hence\n",
      "    `func` and (a, b) becomes func(a, b).\n",
      "\n"
     ]
    }
   ],
   "source": [
    "help(mp.Pool().starmap)"
   ]
  },
  {
   "cell_type": "code",
   "execution_count": null,
   "metadata": {},
   "outputs": [],
   "source": []
  }
 ],
 "metadata": {
  "kernelspec": {
   "display_name": "Python 3",
   "language": "python",
   "name": "python3"
  },
  "language_info": {
   "codemirror_mode": {
    "name": "ipython",
    "version": 3
   },
   "file_extension": ".py",
   "mimetype": "text/x-python",
   "name": "python",
   "nbconvert_exporter": "python",
   "pygments_lexer": "ipython3",
   "version": "3.6.5"
  }
 },
 "nbformat": 4,
 "nbformat_minor": 2
}
